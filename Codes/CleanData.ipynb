{
  "nbformat": 4,
  "nbformat_minor": 0,
  "metadata": {
    "colab": {
      "provenance": []
    },
    "kernelspec": {
      "name": "python3",
      "display_name": "Python 3"
    },
    "language_info": {
      "name": "python"
    }
  },
  "cells": [
    {
      "cell_type": "code",
      "source": [
        "from google.colab import drive\n",
        "drive.mount('/content/drive')"
      ],
      "metadata": {
        "id": "j5UgaiD3ExSW",
        "colab": {
          "base_uri": "https://localhost:8080/"
        },
        "outputId": "51b6abf4-0d1b-4d7b-c2bf-6df741b3c5b3"
      },
      "execution_count": null,
      "outputs": [
        {
          "output_type": "stream",
          "name": "stdout",
          "text": [
            "Mounted at /content/drive\n"
          ]
        }
      ]
    },
    {
      "cell_type": "code",
      "source": [
        "import pandas as pd\n",
        "import glob\n",
        "\n",
        "def standardize_data(path = '/content/drive/Shareddrives/MATH456/FRED CSVs'):\n",
        "  files = glob.glob(path + \"/*.csv\")\n",
        "\n",
        "  dataset = []\n",
        "\n",
        "  #this loop combines all of the data together into a single csv file\n",
        "  for single_file in files:\n",
        "      df = pd.DataFrame(pd.read_csv(single_file))\n",
        "\n",
        "      #retrieves name of the variable we want\n",
        "      variable = list(df.columns)[1]\n",
        "      df['DATE'] = pd.to_datetime(df['DATE'])\n",
        "\n",
        "      #since not all of the data is the same, we had figured that standardizing\n",
        "      #it to quarterly averages will be the best way to attack this issue\n",
        "      df['quarter'] = df['DATE'].dt.to_period('Q')\n",
        "\n",
        "      #this gets the name of the numeric dataset\n",
        "      df = df[df[variable] != '.']\n",
        "\n",
        "      #good data practice to convert calculation data into numerical values\n",
        "      #as these were string data before\n",
        "      df[variable] = pd.to_numeric(df[variable])\n",
        "\n",
        "      #we only want data from the latest first date in each dataset to\n",
        "      #earliest end date in each dataset. will be changed if needed\n",
        "      df = df.loc[df['DATE'].between('2013-01-01','2022-07-01', inclusive=True)]\n",
        "      dataset.append(df.groupby(['quarter'])[variable].mean().round(2))\n",
        "\n",
        "  combined = pd.concat(dataset, axis=1).fillna(0)\n",
        "\n",
        "  #Using the NASDAQ as a predictor and response variable\n",
        "  change_up_NASDAQ = pd.DataFrame(combined[\"NASDAQCOM\"].shift(periods=-1))\n",
        "  change_up_NASDAQ = change_up_NASDAQ.rename(columns= {\"NASDAQCOM\": \"NASDAQY\"})\n",
        "\n",
        "  #dropping last row to match goal of predicting the trend of NASDAQ\n",
        "  complete_set = pd.concat([combined,change_up_NASDAQ],axis=1)\n",
        "  complete_set = complete_set.drop(complete_set.index[len(complete_set)-1])\n",
        "\n",
        "  complete_set = complete_set.rename(columns= {\"NASDAQCOM\": \"NASDAQX\"})\n",
        "\n",
        "  #renaming the columns to name of the file to make easier for us to use\n",
        "  for name in range(len(files)):\n",
        "    files[name] = files[name].split('/',files[name].count('/'))\n",
        "    files[name] = files[name][-1].split('.csv')[0].lstrip()\n",
        "\n",
        "  files.remove(files[0])\n",
        "  files.insert(0,'NASDAQX')\n",
        "  files.insert(len(files),'NASDAQY')\n",
        "\n",
        "  complete_set.columns = files\n",
        "\n",
        "  #wrote to new file outside of where the raw datasets were\n",
        "  #this is helpful in case we need to make changes to dates needed in future\n",
        "  complete_set.to_csv(path.strip('FRED CSVs') + 'Cleaned.csv')\n",
        "\n",
        "\n",
        "  #Since each of the variables have different magnitude, we are implementing\n",
        "  #a naive manner to standardize the unit of all of the variables. This can\n",
        "  mean = list(complete_set.mean())\n",
        "  stdev = list(complete_set.std())\n",
        "\n",
        "  nasdaqx = complete_set.columns[0]\n",
        "  largebankcc = complete_set.columns[4]\n",
        "  quarterfinancereport = complete_set.columns[7]\n",
        "\n",
        "  complete_set[nasdaqx] = (complete_set[nasdaqx] - mean[0]) / stdev[0]\n",
        "  complete_set[largebankcc] = (complete_set[largebankcc] - mean[4]) / stdev[4]\n",
        "  complete_set[quarterfinancereport] = (complete_set[quarterfinancereport] - mean[7]) / stdev[7]\n",
        "\n",
        "  complete_set.to_csv(path.strip('FRED CSVs') + 'NormalizeClean.csv')\n",
        "\n",
        "  return \"Done\"\n",
        "\n",
        "standardize_data()"
      ],
      "metadata": {
        "id": "qps8BeFFBa1P",
        "outputId": "764151db-cb45-4bb8-9d50-11252ec72a2a",
        "colab": {
          "base_uri": "https://localhost:8080/",
          "height": 71
        }
      },
      "execution_count": null,
      "outputs": [
        {
          "output_type": "stream",
          "name": "stderr",
          "text": [
            "<ipython-input-20-f58c9a091f15>:30: FutureWarning: Boolean inputs to the `inclusive` argument are deprecated infavour of `both` or `neither`.\n",
            "  df = df.loc[df['DATE'].between('2013-01-01','2022-07-01', inclusive=True)]\n"
          ]
        },
        {
          "output_type": "execute_result",
          "data": {
            "text/plain": [
              "'Done'"
            ],
            "application/vnd.google.colaboratory.intrinsic+json": {
              "type": "string"
            }
          },
          "metadata": {},
          "execution_count": 20
        }
      ]
    }
  ]
}