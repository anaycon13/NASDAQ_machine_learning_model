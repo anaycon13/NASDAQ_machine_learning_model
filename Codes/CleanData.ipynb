{
  "nbformat": 4,
  "nbformat_minor": 0,
  "metadata": {
    "colab": {
      "provenance": []
    },
    "kernelspec": {
      "name": "python3",
      "display_name": "Python 3"
    },
    "language_info": {
      "name": "python"
    }
  },
  "cells": [
    {
      "cell_type": "code",
      "source": [
        "from google.colab import drive\n",
        "drive.mount('/content/drive')"
      ],
      "metadata": {
        "id": "j5UgaiD3ExSW"
      },
      "execution_count": null,
      "outputs": []
    },
    {
      "cell_type": "code",
      "source": [
        "import pandas as pd\n",
        "import glob\n",
        "import warnings\n",
        "\n",
        "def standardize_data(path = '/content/drive/Shareddrives/MATH456/FRED CSVs'):\n",
        "  files = glob.glob(path + \"/*.csv\")\n",
        "\n",
        "  complete_data = []\n",
        "\n",
        "  #this loop combines all of the data together into a single csv file\n",
        "  for single_file in files:\n",
        "      df = pd.DataFrame(pd.read_csv(single_file))\n",
        "\n",
        "      #retrieves name of the variable we want\n",
        "      variable = list(df.columns)[1]\n",
        "      df['DATE'] = pd.to_datetime(df['DATE'])\n",
        "\n",
        "      #since not all of the data is the same, we had figured that standardizing\n",
        "      #it to quarterly averages will be the best way to attack this issue\n",
        "      df['quarter'] = df['DATE'].dt.to_period('Q')\n",
        "\n",
        "      #this gets the name of the numeric dataset\n",
        "      df = df[df[variable] != '.']\n",
        "\n",
        "      #good data practice to convert calculation data into numerical values\n",
        "      #as these were string data before\n",
        "      df[variable] = pd.to_numeric(df[variable])\n",
        "      \n",
        "      #we only want data from the latest first date in each dataset to \n",
        "      #earliest end date in each dataset. will be changed if needed\n",
        "      df = df.loc[df['DATE'].between('2012-10-31','2022-04-01', inclusive=True)]\n",
        "      complete_data.append(df.groupby(['quarter'])[variable].mean().round(2))\n",
        "  \n",
        "  #renaming the columns in the data to make it easier for us to use\n",
        "  for name in range(len(files)):\n",
        "    files[name] = files[name].split('/',files[name].count('/'))\n",
        "    files[name] = files[name][-1].split('.csv')[0].lstrip()\n",
        "\n",
        "  complete_set = pd.concat(complete_data, axis=1).fillna(0)\n",
        "  complete_set.columns = files\n",
        "\n",
        "  #wrote to new file outside of where the raw datasets were\n",
        "  #this is helpful in case we need to make changes to dates needed in future \n",
        "  complete_set.to_csv(path.strip('FRED CSVs') + 'Cleaned.csv')\n",
        "\n",
        "  return \"Done.\"\n",
        "\n",
        "warnings.filterwarnings('ignore')\n",
        "standardize_data()"
      ],
      "metadata": {
        "id": "qps8BeFFBa1P",
        "outputId": "af67dc10-ed3c-4f7a-d51a-acd8b98fceff",
        "colab": {
          "base_uri": "https://localhost:8080/",
          "height": 37
        }
      },
      "execution_count": 8,
      "outputs": [
        {
          "output_type": "execute_result",
          "data": {
            "text/plain": [
              "'Done.'"
            ],
            "application/vnd.google.colaboratory.intrinsic+json": {
              "type": "string"
            }
          },
          "metadata": {},
          "execution_count": 8
        }
      ]
    }
  ]
}