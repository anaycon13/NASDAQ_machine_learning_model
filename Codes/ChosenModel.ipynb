{
  "nbformat": 4,
  "nbformat_minor": 0,
  "metadata": {
    "colab": {
      "provenance": []
    },
    "kernelspec": {
      "name": "python3",
      "display_name": "Python 3"
    },
    "language_info": {
      "name": "python"
    }
  },
  "cells": [
    {
      "cell_type": "code",
      "source": [
        "from google.colab import drive\n",
        "drive.mount('/content/drive')"
      ],
      "metadata": {
        "colab": {
          "base_uri": "https://localhost:8080/"
        },
        "id": "V3zYgxLxjwNs",
        "outputId": "af6662d2-ce25-45cb-e520-88358a4cc989"
      },
      "execution_count": null,
      "outputs": [
        {
          "output_type": "stream",
          "name": "stdout",
          "text": [
            "Mounted at /content/drive\n"
          ]
        }
      ]
    },
    {
      "cell_type": "code",
      "source": [
        "#libraries to use\n",
        "import numpy as np\n",
        "import pandas as pd\n",
        "from sklearn.model_selection import train_test_split\n",
        "\n",
        "from sklearn.linear_model import Lasso\n",
        "\n",
        "from sklearn.linear_model import Ridge\n",
        "\n",
        "from sklearn.linear_model import LassoCV\n",
        "\n",
        "from sklearn.linear_model import RidgeCV\n",
        "\n",
        "import matplotlib.pyplot as plt\n",
        "from statsmodels.graphics.gofplots import qqplot"
      ],
      "metadata": {
        "id": "FNcTcDRGT4DE"
      },
      "execution_count": null,
      "outputs": []
    },
    {
      "cell_type": "code",
      "execution_count": null,
      "metadata": {
        "id": "SXs3qaHNzqr4"
      },
      "outputs": [],
      "source": [
        "#the goal here to determine which model will give us the most accurate results\n",
        "#we will choose between Lasso and Ridge because we want to see which model\n",
        "#works better given the uses for each and the model we have curently in place\n",
        "\n",
        "path = '/content/drive/Shareddrives/MATH456/'\n",
        "\n",
        "data = pd.read_csv(path + 'NormalizeClean.csv')\n",
        "\n",
        "data = data.drop(['quarter'], axis=1)\n",
        "\n",
        "alphas = 10**np.linspace(10,-2,100)*0.5"
      ]
    },
    {
      "cell_type": "code",
      "source": [
        "X_train, X_test, y_train, y_test = train_test_split(data.iloc[:,0:9],\n",
        "                                                      data.iloc[:,9],\n",
        "                                                      test_size=.3)\n",
        "\n",
        "ridgecv = RidgeCV(alphas = alphas, scoring = 'neg_mean_squared_error')\n",
        "ridgecv.fit(X_train, y_train)\n",
        "opt_alpha_ridge = ridgecv.alpha_\n",
        "print(f\"Optimal Alpha for Ridge Model: {opt_alpha_ridge}\")\n",
        "\n",
        "lassocv = LassoCV(alphas = alphas, cv = 10, max_iter = 100000, tol = .01)\n",
        "lassocv.fit(X_train, y_train)\n",
        "opt_alpha_lasso = lassocv.alpha_\n",
        "print(f\"Optimal Alpha for Lasso Model: {opt_alpha_lasso}\")\n",
        "\n",
        "#Create the two models\n",
        "lasso_reg = Lasso(tol=.01)\n",
        "lasso_reg.set_params(alpha=opt_alpha_lasso)\n",
        "lasso_reg.fit(X_train, y_train)\n",
        "\n",
        "clf  = Ridge()\n",
        "clf.set_params(alpha=opt_alpha_ridge)\n",
        "clf.fit(X_train, y_train)\n",
        "\n",
        "#Make lists of each models' NASDAQ predictions\n",
        "# so that we can find the error in the models.\n",
        "lasso_predictions = lasso_reg.predict(X_test)\n",
        "clf_predictions = clf.predict(X_test)\n",
        "true_values = y_test.tolist()\n",
        "\n",
        "for i in range(len(true_values)):\n",
        "  print(\"-----------------------------------\")\n",
        "  print(f\"      True value: {true_values[i]}\")\n",
        "  print(f\"Lasso Prediction: {lasso_predictions[i]}\")\n",
        "  print(f\"Ridge Prediction: {clf_predictions[i]}\")\n",
        "  print(\"Error: \")\n",
        "  print(f\"Lasso Error: {np.abs(true_values[i]-lasso_predictions[i])}\")\n",
        "  print(f\"Ridge Error: {np.abs(true_values[i]-clf_predictions[i])}\")\n",
        "  print()\n",
        "\n",
        "lasso_coeffs = list(zip(lasso_reg.coef_, X_train))\n",
        "\n",
        "clf_coeffs = list(zip(clf.coef_, X_train))\n",
        "\n",
        "print('Coeffecients of Lasso Model')\n",
        "print('-------------------------------------------------------')\n",
        "for coeff in lasso_coeffs:\n",
        "  print(coeff[1])\n",
        "  print(coeff[0])\n",
        "  print()\n",
        "  print('-------------------------------------------------------')\n",
        "\n",
        "print(\"Coeffecients of Ridge Model\")\n",
        "print('-------------------------------------------------------')\n",
        "for coeff in clf_coeffs:\n",
        "  print(coeff[1])\n",
        "  print(coeff[0])\n",
        "  print()\n",
        "  print('-------------------------------------------------------')"
      ],
      "metadata": {
        "colab": {
          "base_uri": "https://localhost:8080/"
        },
        "id": "bG4gbMpI_oo9",
        "outputId": "3a13e8f4-48cb-4b29-d925-abf051d8c20c"
      },
      "execution_count": null,
      "outputs": [
        {
          "output_type": "stream",
          "name": "stdout",
          "text": [
            "Optimal Alpha for Ridge Model: 0.24885117821660568\n",
            "Optimal Alpha for Lasso Model: 4.055654153948428\n",
            "-----------------------------------\n",
            "      True value: 4600.94\n",
            "Lasso Prediction: 4744.931344561201\n",
            "Ridge Prediction: 4859.953837599192\n",
            "Error: \n",
            "Lasso Error: 143.991344561201\n",
            "Ridge Error: 259.0138375991928\n",
            "\n",
            "-----------------------------------\n",
            "      True value: 6095.44\n",
            "Lasso Prediction: 6100.472418472916\n",
            "Ridge Prediction: 5740.935958987848\n",
            "Error: \n",
            "Lasso Error: 5.032418472916106\n",
            "Ridge Error: 354.5040410121519\n",
            "\n",
            "-----------------------------------\n",
            "      True value: 4845.71\n",
            "Lasso Prediction: 5153.585276921005\n",
            "Ridge Prediction: 5246.580544855204\n",
            "Error: \n",
            "Lasso Error: 307.875276921005\n",
            "Ridge Error: 400.87054485520366\n",
            "\n",
            "-----------------------------------\n",
            "      True value: 4998.14\n",
            "Lasso Prediction: 5378.796595361568\n",
            "Ridge Prediction: 5419.18715524761\n",
            "Error: \n",
            "Lasso Error: 380.65659536156727\n",
            "Ridge Error: 421.0471552476092\n",
            "\n",
            "-----------------------------------\n",
            "      True value: 4195.81\n",
            "Lasso Prediction: 4540.2901174106355\n",
            "Ridge Prediction: 4502.721697528051\n",
            "Error: \n",
            "Lasso Error: 344.4801174106351\n",
            "Ridge Error: 306.91169752805035\n",
            "\n",
            "-----------------------------------\n",
            "      True value: 11954.43\n",
            "Lasso Prediction: 11007.974055339622\n",
            "Ridge Prediction: 9269.75527807053\n",
            "Error: \n",
            "Lasso Error: 946.455944660378\n",
            "Ridge Error: 2684.6747219294703\n",
            "\n",
            "-----------------------------------\n",
            "      True value: 13351.46\n",
            "Lasso Prediction: 11734.154896879318\n",
            "Ridge Prediction: 11006.749771951192\n",
            "Error: \n",
            "Lasso Error: 1617.3051031206815\n",
            "Ridge Error: 2344.710228048807\n",
            "\n",
            "-----------------------------------\n",
            "      True value: 8771.73\n",
            "Lasso Prediction: 8319.341193888984\n",
            "Ridge Prediction: 8302.581889026573\n",
            "Error: \n",
            "Lasso Error: 452.3888061110156\n",
            "Ridge Error: 469.1481109734268\n",
            "\n",
            "-----------------------------------\n",
            "      True value: 8067.46\n",
            "Lasso Prediction: 8023.62647517358\n",
            "Ridge Prediction: 7997.419645269074\n",
            "Error: \n",
            "Lasso Error: 43.833524826420216\n",
            "Ridge Error: 70.04035473092608\n",
            "\n",
            "-----------------------------------\n",
            "      True value: 7876.67\n",
            "Lasso Prediction: 7661.9886017384915\n",
            "Ridge Prediction: 8041.8133428780075\n",
            "Error: \n",
            "Lasso Error: 214.68139826150855\n",
            "Ridge Error: 165.1433428780074\n",
            "\n",
            "-----------------------------------\n",
            "      True value: 3640.9\n",
            "Lasso Prediction: 3566.903529149631\n",
            "Ridge Prediction: 3815.039309834471\n",
            "Error: \n",
            "Lasso Error: 73.99647085036895\n",
            "Ridge Error: 174.13930983447108\n",
            "\n",
            "-----------------------------------\n",
            "      True value: 5168.89\n",
            "Lasso Prediction: 5323.132865065318\n",
            "Ridge Prediction: 5447.932851492726\n",
            "Error: \n",
            "Lasso Error: 154.24286506531735\n",
            "Ridge Error: 279.0428514927253\n",
            "\n",
            "Coeffecients of Lasso Model\n",
            "-------------------------------------------------------\n",
            "NASDAQX\n",
            "3339.0077163203696\n",
            "\n",
            "-------------------------------------------------------\n",
            "Consumer Price Index for All Urban Consumers: Information Technology, Hardware and Services in U.S. City Average\n",
            "-816.3490521495027\n",
            "\n",
            "-------------------------------------------------------\n",
            "Personal Savings\n",
            "102.29294703748471\n",
            "\n",
            "-------------------------------------------------------\n",
            "Consumer Price Index for All Urban Wage Earners and Clerical Workers: Information Technology, Hardware and Services in U.S. City Average\n",
            "-0.0\n",
            "\n",
            "-------------------------------------------------------\n",
            "Large Bank Consumer Credit Card Balances: Total Balances\n",
            "-50.60653506435999\n",
            "\n",
            "-------------------------------------------------------\n",
            "Commercial Bank Interest Rate on Credit Card Plans, All Accounts\n",
            "-50.47196148215854\n",
            "\n",
            "-------------------------------------------------------\n",
            "Net Percentage of Domestic Banks Tightening Standards for Credit Card Loans - Quarterly\n",
            "-9.513789430463806\n",
            "\n",
            "-------------------------------------------------------\n",
            "Quarterly Financial Report: U.S. Corporations: Computer and Electronic Products: Net Sales, Receipts, and Operating Revenues\n",
            "-253.50561351787786\n",
            "\n",
            "-------------------------------------------------------\n",
            "Velocity of M1 Money Stock\n",
            "107.93446530595199\n",
            "\n",
            "-------------------------------------------------------\n",
            "Coeffecients of Ridge Model\n",
            "-------------------------------------------------------\n",
            "NASDAQX\n",
            "2113.0392022525857\n",
            "\n",
            "-------------------------------------------------------\n",
            "Consumer Price Index for All Urban Consumers: Information Technology, Hardware and Services in U.S. City Average\n",
            "-389.2695839955224\n",
            "\n",
            "-------------------------------------------------------\n",
            "Personal Savings\n",
            "128.93961047573274\n",
            "\n",
            "-------------------------------------------------------\n",
            "Consumer Price Index for All Urban Wage Earners and Clerical Workers: Information Technology, Hardware and Services in U.S. City Average\n",
            "-388.73686048731946\n",
            "\n",
            "-------------------------------------------------------\n",
            "Large Bank Consumer Credit Card Balances: Total Balances\n",
            "97.4537134464735\n",
            "\n",
            "-------------------------------------------------------\n",
            "Commercial Bank Interest Rate on Credit Card Plans, All Accounts\n",
            "353.6106557518413\n",
            "\n",
            "-------------------------------------------------------\n",
            "Net Percentage of Domestic Banks Tightening Standards for Credit Card Loans - Quarterly\n",
            "-39.714383218455154\n",
            "\n",
            "-------------------------------------------------------\n",
            "Quarterly Financial Report: U.S. Corporations: Computer and Electronic Products: Net Sales, Receipts, and Operating Revenues\n",
            "-242.7541057246131\n",
            "\n",
            "-------------------------------------------------------\n",
            "Velocity of M1 Money Stock\n",
            "-188.35682485817625\n",
            "\n",
            "-------------------------------------------------------\n"
          ]
        }
      ]
    },
    {
      "cell_type": "code",
      "source": [
        "#Assessment of the Lasso and Ridge models over N possible train/test data\n",
        "#splits. The .score() function returns the R^2 coeffecient, which helps to\n",
        "#measure the accuracy of the respective model. The best possible score is 1.0,\n",
        "#and ideally we would produce a model with a score of .7 or better.\n",
        "\n",
        "lasso_scores = []\n",
        "lasso_error = []\n",
        "lasso_rawerror = []\n",
        "lasso_RMSE = []\n",
        "lasso_ave_pos_error = []\n",
        "lasso_ave_neg_error = []\n",
        "\n",
        "ridge_scores = []\n",
        "ridge_error = []\n",
        "ridge_rawerror = []\n",
        "ridge_RMSE = []\n",
        "ridge_ave_pos_error = []\n",
        "ridge_ave_neg_error = []\n",
        "\n",
        "for i in range(10000):\n",
        "  X_train, X_test, y_train, y_test = train_test_split(data.iloc[:,0:9],\n",
        "                                                      data.iloc[:,9],\n",
        "                                                      test_size=.3, random_state = i)\n",
        "\n",
        "\n",
        "  ridgecv = RidgeCV(alphas = alphas, scoring = 'neg_mean_squared_error')\n",
        "  ridgecv.fit(X_train, y_train)\n",
        "  opt_alpha_ridge = ridgecv.alpha_\n",
        "\n",
        "  lassocv = LassoCV(alphas = alphas, cv = 10, max_iter = 100000, tol = .01)\n",
        "  lassocv.fit(X_train, y_train)\n",
        "  opt_alpha_lasso = lassocv.alpha_\n",
        "\n",
        "  #Create the two models\n",
        "  lasso_reg = Lasso(tol=.01)\n",
        "  lasso_reg.set_params(alpha=opt_alpha_lasso)\n",
        "  lasso_reg.fit(X_train, y_train)\n",
        "\n",
        "  clf  = Ridge()\n",
        "  clf.set_params(alpha=opt_alpha_ridge)\n",
        "  clf.fit(X_train, y_train)\n",
        "\n",
        "  #Find the R^2 score of the two models\n",
        "  lasso_scores.append(lasso_reg.score(X_test, y_test))\n",
        "  ridge_scores.append(clf.score(X_test, y_test))\n",
        "\n",
        "  #Make lists of each models' NASDAQ predictions\n",
        "  # so that we can find the error in the models.\n",
        "  lasso_predictions = lasso_reg.predict(X_test)\n",
        "  clf_predictions = clf.predict(X_test)\n",
        "  true_values = y_test.tolist()\n",
        "\n",
        "  temp_lasso = []\n",
        "  temp_lasso_pos = []\n",
        "  temp_lasso_neg = []\n",
        "\n",
        "  temp_ridge = []\n",
        "  temp_ridge_pos = []\n",
        "  temp_ridge_neg = []\n",
        "\n",
        "  #Loops through the true values and calculates\n",
        "  # various errors.\n",
        "  for j in range(len(true_values)):\n",
        "    lasso_e = lasso_predictions[j]-true_values[j]\n",
        "    ridge_e = clf_predictions[j]-true_values[j]\n",
        "    lasso_error.append(lasso_e)\n",
        "    temp_lasso.append(lasso_e)\n",
        "    ridge_error.append(ridge_e)\n",
        "    temp_ridge.append(ridge_e)\n",
        "    if lasso_e >= 0:\n",
        "      temp_lasso_pos.append(lasso_e)\n",
        "    else:\n",
        "      temp_lasso_neg.append(lasso_e)\n",
        "    if ridge_e >= 0:\n",
        "      temp_ridge_pos.append(ridge_e)\n",
        "    else:\n",
        "      temp_ridge_neg.append(ridge_e)\n",
        "\n",
        "\n",
        "  lasso_RMSE.append(np.sqrt((sum(temp_lasso)**2)/len(temp_lasso)))\n",
        "  lasso_rawerror.append(sum(temp_lasso)/len(temp_lasso))\n",
        "\n",
        "  ridge_RMSE.append(np.sqrt((sum(temp_ridge)**2)/len(temp_ridge)))\n",
        "  ridge_rawerror.append(sum(temp_ridge)/len(temp_ridge))\n",
        "\n",
        "  try:\n",
        "    lasso_ave_pos_error.append(sum(temp_lasso_pos)/len(temp_lasso_pos))\n",
        "    lasso_ave_neg_error.append(sum(temp_lasso_neg)/len(temp_lasso_neg))\n",
        "    ridge_ave_pos_error.append(sum(temp_ridge_pos)/len(temp_ridge_pos))\n",
        "    ridge_ave_neg_error.append(sum(temp_ridge_neg)/len(temp_ridge_neg))\n",
        "  except ZeroDivisionError:\n",
        "    pass\n",
        "  if i % 100 == 0:\n",
        "    print(i)\n",
        "\n",
        "\n",
        "mean_lasso_score = sum(lasso_scores)/len(lasso_scores)\n",
        "mean_ridge_score = sum(ridge_scores)/len(ridge_scores)\n",
        "\n",
        "mean_lasso_RMSE = sum(lasso_RMSE)/len(lasso_RMSE)\n",
        "mean_ridge_RMSE = sum(ridge_RMSE)/len(lasso_RMSE)\n",
        "\n",
        "\n",
        "print('Average Lasso Score: ', mean_lasso_score)\n",
        "print('Average Lasso RMSE: ', mean_lasso_RMSE)\n",
        "print()\n",
        "print('Average Ridge Score: ', mean_ridge_score)\n",
        "print('Average Ridge RMSE: ', mean_ridge_RMSE)"
      ],
      "metadata": {
        "id": "4j9mxEtvgBMM",
        "colab": {
          "base_uri": "https://localhost:8080/"
        },
        "outputId": "4d834164-bf0d-4090-a36d-6880c5a972fd"
      },
      "execution_count": null,
      "outputs": [
        {
          "output_type": "stream",
          "name": "stdout",
          "text": [
            "0\n",
            "100\n",
            "200\n",
            "300\n",
            "400\n",
            "500\n",
            "600\n",
            "700\n",
            "800\n",
            "900\n",
            "1000\n",
            "1100\n",
            "1200\n",
            "1300\n",
            "1400\n",
            "1500\n",
            "1600\n",
            "1700\n",
            "1800\n",
            "1900\n",
            "2000\n",
            "2100\n",
            "2200\n",
            "2300\n",
            "2400\n",
            "2500\n",
            "2600\n",
            "2700\n",
            "2800\n",
            "2900\n",
            "3000\n",
            "3100\n",
            "3200\n",
            "3300\n",
            "3400\n",
            "3500\n",
            "3600\n",
            "3700\n",
            "3800\n",
            "3900\n",
            "4000\n",
            "4100\n",
            "4200\n",
            "4300\n",
            "4400\n",
            "4500\n",
            "4600\n",
            "4700\n",
            "4800\n",
            "4900\n",
            "5000\n",
            "5100\n",
            "5200\n",
            "5300\n",
            "5400\n",
            "5500\n",
            "5600\n",
            "5700\n",
            "5800\n",
            "5900\n",
            "6000\n",
            "6100\n",
            "6200\n",
            "6300\n",
            "6400\n",
            "6500\n",
            "6600\n",
            "6700\n",
            "6800\n",
            "6900\n",
            "7000\n",
            "7100\n",
            "7200\n",
            "7300\n",
            "7400\n",
            "7500\n",
            "7600\n",
            "7700\n",
            "7800\n",
            "7900\n",
            "8000\n",
            "8100\n",
            "8200\n",
            "8300\n",
            "8400\n",
            "8500\n",
            "8600\n",
            "8700\n",
            "8800\n",
            "8900\n",
            "9000\n",
            "9100\n",
            "9200\n",
            "9300\n",
            "9400\n",
            "9500\n",
            "9600\n",
            "9700\n",
            "9800\n",
            "9900\n",
            "Average Lasso Score:  0.9415165993985325\n",
            "Average Lasso RMSE:  753.0143799101252\n",
            "\n",
            "Average Ridge Score:  0.9181121903610201\n",
            "Average Ridge RMSE:  901.5096971377302\n"
          ]
        }
      ]
    },
    {
      "cell_type": "code",
      "source": [
        "binwidth = .05\n",
        "f, (ax1, ax2) = plt.subplots(1, 2, figsize=(8,6), sharey = True, sharex = True)\n",
        "ax1.hist(lasso_scores, bins=np.arange(min(lasso_scores), max(lasso_scores) + binwidth, binwidth))\n",
        "ax1.set_title('Lasso R^2 Score Histogram')\n",
        "ax2.hist(ridge_scores, bins=np.arange(min(ridge_scores), max(ridge_scores) + binwidth, binwidth))\n",
        "ax2.set_title('Ridge R^2 Score Histogram')\n",
        "plt.tight_layout()\n",
        "\n",
        "binwidth = 300\n",
        "f, (ax3, ax4) = plt.subplots(1, 2, figsize=(8,6), sharey = True, sharex = True)\n",
        "ax3.hist(lasso_RMSE, bins=np.arange(min(lasso_RMSE), max(lasso_RMSE) + binwidth, binwidth))\n",
        "ax3.set_title('Lasso RMSE Histogram')\n",
        "ax4.hist(ridge_RMSE, bins=np.arange(min(ridge_RMSE), max(ridge_RMSE) + binwidth, binwidth))\n",
        "ax4.set_title('Ridge RMSE')\n",
        "plt.tight_layout()"
      ],
      "metadata": {
        "colab": {
          "base_uri": "https://localhost:8080/",
          "height": 865
        },
        "id": "rcayPR1ocJem",
        "outputId": "230ca224-430f-422f-fe5f-0398b4df865c"
      },
      "execution_count": null,
      "outputs": [
        {
          "output_type": "display_data",
          "data": {
            "text/plain": [
              "<Figure size 576x432 with 2 Axes>"
            ],
            "image/png": "[encoded data removed]"
          },
          "metadata": {
            "needs_background": "light"
          }
        },
        {
          "output_type": "display_data",
          "data": {
            "text/plain": [
              "<Figure size 576x432 with 2 Axes>"
            ],
            "image/png": "[encoded data removed]"
          },
          "metadata": {
            "needs_background": "light"
          }
        }
      ]
    },
    {
      "cell_type": "code",
      "source": [
        "binwidth = 100\n",
        "f, (ax1, ax2) = plt.subplots(1, 2, figsize=(12,8), sharex = True, sharey = True)\n",
        "ax1.hist(lasso_rawerror, bins=np.arange(min(lasso_rawerror), max(lasso_rawerror) + binwidth, binwidth))\n",
        "ax1.set_title('Lasso Average Error Histogram')\n",
        "ax2.hist(ridge_rawerror, bins=np.arange(min(ridge_rawerror), max(ridge_rawerror) + binwidth, binwidth))\n",
        "ax2.set_title('Ridge Average Error Histogram')\n",
        "plt.tight_layout()\n",
        "\n",
        "print('Lasso Average Error Standard Deviation: ', np.std(lasso_rawerror))\n",
        "print('              Lasso Average Error Mean: ', np.mean(lasso_rawerror))\n",
        "print()\n",
        "print('Ridge Average Error Standard Deviation: ', np.std(ridge_rawerror))\n",
        "print('              Ridge Average Error Mean: ', np.mean(ridge_rawerror))"
      ],
      "metadata": {
        "colab": {
          "base_uri": "https://localhost:8080/",
          "height": 672
        },
        "id": "5wBS--k7WERD",
        "outputId": "6ba41fe6-0937-4193-f80d-aa8ab386c587"
      },
      "execution_count": null,
      "outputs": [
        {
          "output_type": "stream",
          "name": "stdout",
          "text": [
            "Lasso Average Error Standard Deviation:  275.63355389500714\n",
            "              Lasso Average Error Mean:  59.47302371724284\n",
            "\n",
            "Ridge Average Error Standard Deviation:  344.4107371718588\n",
            "              Ridge Average Error Mean:  67.56153614931694\n"
          ]
        },
        {
          "output_type": "display_data",
          "data": {
            "text/plain": [
              "<Figure size 864x576 with 2 Axes>"
            ],
            "image/png": "[encoded data removed]"
          },
          "metadata": {
            "needs_background": "light"
          }
        }
      ]
    },
    {
      "cell_type": "code",
      "source": [
        "binwidth = 100\n",
        "f, ((ax1, ax2),(ax3,ax4)) = plt.subplots(2, 2, figsize=(12,8), sharey = True, sharex=True)\n",
        "ax1.hist(lasso_ave_pos_error, bins=np.arange(min(lasso_ave_pos_error), max(lasso_ave_pos_error) + binwidth, binwidth))\n",
        "ax1.set_title('Lasso Average Positive Error Histogram')\n",
        "ax2.hist(lasso_ave_neg_error, bins=np.arange(min(lasso_ave_neg_error), max(lasso_ave_neg_error) + binwidth, binwidth))\n",
        "ax2.set_title('Lasso Average Negative Error Histogram')\n",
        "ax3.hist(ridge_ave_pos_error, bins=np.arange(min(ridge_ave_pos_error), max(ridge_ave_pos_error) + binwidth, binwidth))\n",
        "ax3.set_title('Ridge Average Positive Error Histogram')\n",
        "ax4.hist(ridge_ave_neg_error, bins=np.arange(min(ridge_ave_neg_error), max(ridge_ave_neg_error) + binwidth, binwidth))\n",
        "ax4.set_title('Ridge Average Negative Error Histogram')\n",
        "plt.tight_layout()"
      ],
      "metadata": {
        "colab": {
          "base_uri": "https://localhost:8080/",
          "height": 585
        },
        "id": "HkSf5kAXaEbI",
        "outputId": "3f23c492-0e48-4ec9-efb0-41f12e4a50c2"
      },
      "execution_count": null,
      "outputs": [
        {
          "output_type": "display_data",
          "data": {
            "text/plain": [
              "<Figure size 864x576 with 4 Axes>"
            ],
            "image/png": "[encoded data removed]"
          },
          "metadata": {
            "needs_background": "light"
          }
        }
      ]
    },
    {
      "cell_type": "code",
      "source": [
        "my_y = data.iloc[:,9].tolist()\n",
        "quarterly_change = []\n",
        "\n",
        "for i in range(len(my_y)-1):\n",
        "  quarterly_change.append(my_y[i+1] - my_y[i])\n",
        "\n",
        "greater_than_200 = 0\n",
        "\n",
        "for i in quarterly_change:\n",
        "  if np.abs(i) >= 550:\n",
        "    greater_than_200 += 1\n",
        "\n",
        "print('Roughly', greater_than_200/len(quarterly_change) * 100, 'percent of the quarters had a change of over 200 points')\n",
        "\n",
        "plt.figure(0)\n",
        "plt.hist(quarterly_change, bins = 30)\n",
        "plt.title(\"Quarterly Changes in NASDAQ Value\")\n",
        "plt.xlabel(\"Change in Value\")\n",
        "plt.axvline(x = 275, color = 'r', label = 'axvline - full height')\n",
        "plt.axvline(x = -275, color = 'r', label = 'axvline - full height')\n",
        "plt.axvline(x = 550, color = 'g', label = 'axvline - full height')\n",
        "plt.axvline(x = -550, color = 'g', label = 'axvline - full height')\n",
        "plt.show()\n"
      ],
      "metadata": {
        "colab": {
          "base_uri": "https://localhost:8080/",
          "height": 312
        },
        "id": "9Leo4RLX2pMR",
        "outputId": "70ac7b7b-d816-4ffe-f4a8-2714345aad4d"
      },
      "execution_count": null,
      "outputs": [
        {
          "output_type": "stream",
          "name": "stdout",
          "text": [
            "Roughly 24.324324324324326 percent of the quarters had a change of over 200 points\n"
          ]
        },
        {
          "output_type": "display_data",
          "data": {
            "text/plain": [
              "<Figure size 432x288 with 1 Axes>"
            ],
            "image/png": "[encoded data removed]"
          },
          "metadata": {
            "needs_background": "light"
          }
        }
      ]
    },
    {
      "cell_type": "code",
      "source": [
        "#The QQ plot shows that the errors in the ridge regression are very nearly normally distributed\n",
        "qqplot(np.array(lasso_rawerror), line='s')\n",
        "plt.title('QQ Plot of Average Lasso Errors')\n",
        "plt.show()"
      ],
      "metadata": {
        "colab": {
          "base_uri": "https://localhost:8080/",
          "height": 295
        },
        "id": "atnXZVVN9xdJ",
        "outputId": "be70d244-26ad-4551-a23d-1e199967769e"
      },
      "execution_count": null,
      "outputs": [
        {
          "output_type": "display_data",
          "data": {
            "text/plain": [
              "<Figure size 432x288 with 1 Axes>"
            ],
            "image/png": "[encoded data removed]"
          },
          "metadata": {
            "needs_background": "light"
          }
        }
      ]
    }
  ]
}