{
  "nbformat": 4,
  "nbformat_minor": 0,
  "metadata": {
    "colab": {
      "provenance": []
    },
    "kernelspec": {
      "name": "python3",
      "display_name": "Python 3"
    },
    "language_info": {
      "name": "python"
    }
  },
  "cells": [
    {
      "cell_type": "code",
      "source": [
        "from google.colab import drive\n",
        "drive.mount('/content/drive')"
      ],
      "metadata": {
        "colab": {
          "base_uri": "https://localhost:8080/"
        },
        "id": "V3zYgxLxjwNs",
        "outputId": "ad12d543-0ac1-4ab1-e3bc-271bcd1cdcbc"
      },
      "execution_count": null,
      "outputs": [
        {
          "output_type": "stream",
          "name": "stdout",
          "text": [
            "Mounted at /content/drive\n"
          ]
        }
      ]
    },
    {
      "cell_type": "code",
      "source": [
        "#libraries to use\n",
        "import numpy as np\n",
        "import pandas as pd\n",
        "from sklearn.model_selection import train_test_split\n",
        "\n",
        "from sklearn.linear_model import Lasso\n",
        "\n",
        "from sklearn.linear_model import Ridge\n",
        "\n",
        "import matplotlib.pyplot as plt\n",
        "from statsmodels.graphics.gofplots import qqplot"
      ],
      "metadata": {
        "id": "FNcTcDRGT4DE"
      },
      "execution_count": null,
      "outputs": []
    },
    {
      "cell_type": "code",
      "execution_count": null,
      "metadata": {
        "id": "SXs3qaHNzqr4"
      },
      "outputs": [],
      "source": [
        "#the goal here to determine which model will give us the most accurate results\n",
        "#we will choose between Lasso and Ridge because we want to see which model\n",
        "#works better given the uses for each and the model we have curently in place \n",
        "\n",
        "path = '/content/drive/Shareddrives/MATH456/' \n",
        "\n",
        "data = pd.read_csv(path + 'Cleaned.csv')\n",
        "\n",
        "#As we have mentioned before, this is the variables which went to produce the \n",
        "#highest VIF due to the high correlation with other variables in dataset\n",
        "\n",
        "#Including NASDAQX will increase the accuracy of the model even further,\n",
        "#however it remains quite accurate without this data and \n",
        "\n",
        "#data = data.drop(['quarter','NASDAQX','Consumer Price Index for All Urban Wage Earners and Clerical Workers: ' + \n",
        "#                  'Information Technology, Hardware and Services in U.S. City Average',\n",
        "#                  'Large Bank Consumer Credit Card Balances: Total Balances'], \n",
        "#                 axis=1)\n",
        "\n",
        "data = data.drop(['quarter','Consumer Price Index for All Urban Wage Earners and Clerical Workers: ' + \n",
        "                  'Information Technology, Hardware and Services in U.S. City Average',\n",
        "                  'Large Bank Consumer Credit Card Balances: Total Balances'], \n",
        "                 axis=1)"
      ]
    },
    {
      "cell_type": "code",
      "source": [
        "\n",
        "\n",
        "X_train, X_test, y_train, y_test = train_test_split(data.iloc[:,1:], \n",
        "                                                      data.iloc[:,0], \n",
        "                                                      test_size=.3)\n",
        "\n",
        "\n",
        "#Create the two models\n",
        "lasso_reg = Lasso(tol=.01).fit(X_train, y_train)\n",
        "clf = Ridge().fit(X_train, y_train)\n",
        "\n",
        "#Make lists of each models' NASDAQ predictions\n",
        "# so that we can find the error in the models.\n",
        "lasso_predictions = lasso_reg.predict(X_test)\n",
        "clf_predictions = clf.predict(X_test)\n",
        "true_values = y_test.tolist()\n",
        "\n",
        "for i in range(len(true_values)):\n",
        "  print(\"-----------------------------------\")\n",
        "  print(f\"      True value: {true_values[i]}\")\n",
        "  print(f\"Lasso Prediction: {lasso_predictions[i]}\")\n",
        "  print(f\"Ridge Prediction: {clf_predictions[i]}\")\n",
        "  print(\"Error: \")\n",
        "  print(f\"Lasso Error: {np.abs(true_values[i]-lasso_predictions[i])}\")\n",
        "  print(f\"Ridge Error: {np.abs(true_values[i]-clf_predictions[i])}\")\n",
        "  print()\n",
        "  print(i)\n"
      ],
      "metadata": {
        "colab": {
          "base_uri": "https://localhost:8080/"
        },
        "id": "bG4gbMpI_oo9",
        "outputId": "553dfeec-d1a0-4619-fc14-50ef002ff59c"
      },
      "execution_count": null,
      "outputs": [
        {
          "output_type": "stream",
          "name": "stdout",
          "text": [
            "-----------------------------------\n",
            "      True value: 4210.4\n",
            "Lasso Prediction: 3783.758286415534\n",
            "Ridge Prediction: 3903.9190837851884\n",
            "Error: \n",
            "Lasso Error: 426.64171358446583\n",
            "Ridge Error: 306.48091621481126\n",
            "\n",
            "0\n",
            "-----------------------------------\n",
            "      True value: 4614.2\n",
            "Lasso Prediction: 4496.316712625163\n",
            "Ridge Prediction: 4559.003694501491\n",
            "Error: \n",
            "Lasso Error: 117.88328737483698\n",
            "Ridge Error: 55.19630549850899\n",
            "\n",
            "1\n",
            "-----------------------------------\n",
            "      True value: 14000.62\n",
            "Lasso Prediction: 14612.495111380349\n",
            "Ridge Prediction: 14624.10916275575\n",
            "Error: \n",
            "Lasso Error: 611.8751113803482\n",
            "Ridge Error: 623.4891627557499\n",
            "\n",
            "2\n",
            "-----------------------------------\n",
            "      True value: 4998.14\n",
            "Lasso Prediction: 5076.599031071239\n",
            "Ridge Prediction: 4650.851210187938\n",
            "Error: \n",
            "Lasso Error: 78.45903107123831\n",
            "Ridge Error: 347.28878981206253\n",
            "\n",
            "3\n",
            "-----------------------------------\n",
            "      True value: 7253.85\n",
            "Lasso Prediction: 6606.190435461554\n",
            "Ridge Prediction: 6977.294722292547\n",
            "Error: \n",
            "Lasso Error: 647.6595645384459\n",
            "Ridge Error: 276.55527770745357\n",
            "\n",
            "4\n",
            "-----------------------------------\n",
            "      True value: 3368.01\n",
            "Lasso Prediction: 3522.5927602825413\n",
            "Ridge Prediction: 3472.67132684646\n",
            "Error: \n",
            "Lasso Error: 154.58276028254113\n",
            "Ridge Error: 104.66132684645981\n",
            "\n",
            "5\n",
            "-----------------------------------\n",
            "      True value: 7876.67\n",
            "Lasso Prediction: 7445.864046154091\n",
            "Ridge Prediction: 7653.389278705465\n",
            "Error: \n",
            "Lasso Error: 430.80595384590924\n",
            "Ridge Error: 223.2807212945354\n",
            "\n",
            "6\n",
            "-----------------------------------\n",
            "      True value: 5736.32\n",
            "Lasso Prediction: 5253.5914640788815\n",
            "Ridge Prediction: 5591.929590232806\n",
            "Error: \n",
            "Lasso Error: 482.72853592111824\n",
            "Ridge Error: 144.3904097671939\n",
            "\n",
            "7\n",
            "-----------------------------------\n",
            "      True value: 7355.94\n",
            "Lasso Prediction: 7116.94043853877\n",
            "Ridge Prediction: 7458.9900093079195\n",
            "Error: \n",
            "Lasso Error: 238.99956146122986\n",
            "Ridge Error: 103.05000930791994\n",
            "\n",
            "8\n",
            "-----------------------------------\n",
            "      True value: 8771.73\n",
            "Lasso Prediction: 7652.444362283388\n",
            "Ridge Prediction: 8274.975761426565\n",
            "Error: \n",
            "Lasso Error: 1119.2856377166117\n",
            "Ridge Error: 496.7542385734341\n",
            "\n",
            "9\n",
            "-----------------------------------\n",
            "      True value: 5030.17\n",
            "Lasso Prediction: 4463.313219474372\n",
            "Ridge Prediction: 4561.965640715753\n",
            "Error: \n",
            "Lasso Error: 566.856780525628\n",
            "Ridge Error: 468.2043592842474\n",
            "\n",
            "10\n",
            "-----------------------------------\n",
            "      True value: 14839.97\n",
            "Lasso Prediction: 14840.269343328482\n",
            "Ridge Prediction: 15295.708508796208\n",
            "Error: \n",
            "Lasso Error: 0.29934332848279155\n",
            "Ridge Error: 455.7385087962084\n",
            "\n",
            "11\n"
          ]
        }
      ]
    },
    {
      "cell_type": "code",
      "source": [
        "#Assessment of the Lasso and Ridge models over N possible train/test data\n",
        "#splits. The .score() function returns the R^2 coeffecient, which helps to\n",
        "#measure the accuracy of the respective model. The best possible score is 1.0,\n",
        "#and ideally we would produce a model with a score of .7 or better.\n",
        "\n",
        "lasso_scores = []\n",
        "lasso_error = []\n",
        "lasso_rawerror = []\n",
        "lasso_RMSE = []\n",
        "lasso_ave_pos_error = []\n",
        "lasso_ave_neg_error = []\n",
        "\n",
        "ridge_scores = []\n",
        "ridge_error = []\n",
        "ridge_rawerror = []\n",
        "ridge_RMSE = []\n",
        "ridge_ave_pos_error = []\n",
        "ridge_ave_neg_error = []\n",
        "\n",
        "for i in range(10000):\n",
        "  X_train, X_test, y_train, y_test = train_test_split(data.iloc[:,1:], \n",
        "                                                      data.iloc[:,0], \n",
        "                                                      test_size=.3)\n",
        "\n",
        "\n",
        "  #Create the two models\n",
        "  lasso_reg = Lasso(tol=.01).fit(X_train, y_train)\n",
        "  clf = Ridge().fit(X_train, y_train)\n",
        "\n",
        "  #Find the R^2 score of the two models\n",
        "  lasso_scores.append(lasso_reg.score(X_test, y_test))\n",
        "  ridge_scores.append(clf.score(X_test, y_test))\n",
        "\n",
        "  #Make lists of each models' NASDAQ predictions\n",
        "  # so that we can find the error in the models.\n",
        "  lasso_predictions = lasso_reg.predict(X_test)\n",
        "  clf_predictions = clf.predict(X_test)\n",
        "  true_values = y_test.tolist()\n",
        "\n",
        "  temp_lasso = []\n",
        "  temp_lasso_pos = []\n",
        "  temp_lasso_neg = []\n",
        "\n",
        "  temp_ridge = []\n",
        "  temp_ridge_pos = []\n",
        "  temp_ridge_neg = []\n",
        "\n",
        "  #Loops through the true values and calculates\n",
        "  # various errors.\n",
        "  for j in range(len(true_values)):\n",
        "    lasso_e = lasso_predictions[j]-true_values[j]\n",
        "    ridge_e = clf_predictions[j]-true_values[j]\n",
        "    lasso_error.append(lasso_e)\n",
        "    temp_lasso.append(lasso_e)\n",
        "    ridge_error.append(ridge_e)\n",
        "    temp_ridge.append(ridge_e)\n",
        "    if lasso_e >= 0:\n",
        "      temp_lasso_pos.append(lasso_e)\n",
        "    else:\n",
        "      temp_lasso_neg.append(lasso_e)\n",
        "    if ridge_e >= 0:\n",
        "      temp_ridge_pos.append(ridge_e)\n",
        "    else:\n",
        "      temp_ridge_neg.append(ridge_e)\n",
        "\n",
        "\n",
        "  lasso_RMSE.append(np.sqrt((sum(temp_lasso)**2)/len(temp_lasso)))\n",
        "  lasso_rawerror.append(sum(temp_lasso)/len(temp_lasso))\n",
        "\n",
        "  ridge_RMSE.append(np.sqrt((sum(temp_ridge)**2)/len(temp_ridge)))\n",
        "  ridge_rawerror.append(sum(temp_ridge)/len(temp_ridge))\n",
        "\n",
        "  try:\n",
        "    lasso_ave_pos_error.append(sum(temp_lasso_pos)/len(temp_lasso_pos))\n",
        "    lasso_ave_neg_error.append(sum(temp_lasso_neg)/len(temp_lasso_neg))\n",
        "    ridge_ave_pos_error.append(sum(temp_ridge_pos)/len(temp_ridge_pos))\n",
        "    ridge_ave_neg_error.append(sum(temp_ridge_neg)/len(temp_ridge_neg))\n",
        "  except ZeroDivisionError:\n",
        "    pass\n",
        "\n",
        "  \n",
        "\n",
        "mean_lasso_score = sum(lasso_scores)/len(lasso_scores)\n",
        "mean_ridge_score = sum(ridge_scores)/len(ridge_scores)\n",
        "\n",
        "mean_lasso_RMSE = sum(lasso_RMSE)/len(lasso_RMSE)\n",
        "mean_ridge_RMSE = sum(ridge_RMSE)/len(lasso_RMSE)\n",
        "\n",
        "\n",
        "print('Average Lasso Score: ', mean_lasso_score)\n",
        "print('Average Lasso RMSE: ', mean_lasso_RMSE)\n",
        "print()\n",
        "print('Average Ridge Score: ', mean_ridge_score)\n",
        "print('Average Ridge RMSE: ', mean_ridge_RMSE)\n"
      ],
      "metadata": {
        "id": "4j9mxEtvgBMM",
        "colab": {
          "base_uri": "https://localhost:8080/"
        },
        "outputId": "97220b62-a316-4ff3-b31f-3d509d0b4f89"
      },
      "execution_count": null,
      "outputs": [
        {
          "output_type": "stream",
          "name": "stdout",
          "text": [
            "Average Lasso Score:  0.8171656225173874\n",
            "Average Lasso RMSE:  1025.8171967583542\n",
            "\n",
            "Average Ridge Score:  0.9707481843113219\n",
            "Average Ridge RMSE:  514.8630646874866\n"
          ]
        }
      ]
    },
    {
      "cell_type": "code",
      "source": [
        "binwidth = .05\n",
        "f, (ax1, ax2) = plt.subplots(1, 2, figsize=(8,6), sharey = True, sharex = True) \n",
        "ax1.hist(lasso_scores, bins=np.arange(min(lasso_scores), max(lasso_scores) + binwidth, binwidth))\n",
        "ax1.set_title('Lasso R^2 Score Histogram')\n",
        "ax2.hist(ridge_scores, bins=np.arange(min(ridge_scores), max(ridge_scores) + binwidth, binwidth))\n",
        "ax2.set_title('Ridge R^2 Score Histogram')\n",
        "plt.tight_layout()\n",
        "\n",
        "binwidth = 300\n",
        "f, (ax3, ax4) = plt.subplots(1, 2, figsize=(8,6), sharey = True, sharex = True) \n",
        "ax3.hist(lasso_RMSE, bins=np.arange(min(lasso_RMSE), max(lasso_RMSE) + binwidth, binwidth))\n",
        "ax3.set_title('Lasso RMSE Histogram')\n",
        "ax4.hist(ridge_RMSE, bins=np.arange(min(ridge_RMSE), max(ridge_RMSE) + binwidth, binwidth))\n",
        "ax4.set_title('Ridge RMSE')\n",
        "plt.tight_layout()"
      ],
      "metadata": {
        "colab": {
          "base_uri": "https://localhost:8080/",
          "height": 865
        },
        "id": "rcayPR1ocJem",
        "outputId": "7acf2406-ab70-4f33-9a5e-61d3f7985f67"
      },
      "execution_count": null,
      "outputs": [
        {
          "output_type": "display_data",
          "data": {
            "text/plain": [
              "<Figure size 576x432 with 2 Axes>"
            ],
            "image/png": "[encoded data removed]"
          },
          "metadata": {
            "needs_background": "light"
          }
        },
        {
          "output_type": "display_data",
          "data": {
            "text/plain": [
              "<Figure size 576x432 with 2 Axes>"
            ],
            "image/png": "[encoded data removed]"
          },
          "metadata": {
            "needs_background": "light"
          }
        }
      ]
    },
    {
      "cell_type": "code",
      "source": [
        "binwidth = 100\n",
        "f, (ax1, ax2) = plt.subplots(1, 2, figsize=(12,8), sharex = True, sharey = True) \n",
        "ax1.hist(lasso_rawerror, bins=np.arange(min(lasso_rawerror), max(lasso_rawerror) + binwidth, binwidth))\n",
        "ax1.set_title('Lasso Average Error Histogram')\n",
        "ax2.hist(ridge_rawerror, bins=np.arange(min(ridge_rawerror), max(ridge_rawerror) + binwidth, binwidth))\n",
        "ax2.set_title('Ridge Average Error Histogram')\n",
        "plt.tight_layout()\n",
        "\n",
        "print('Lasso Average Error Standard Deviation: ', np.std(lasso_rawerror))\n",
        "print('              Lasso Average Error Mean: ', np.mean(lasso_rawerror))\n",
        "print()\n",
        "print('Ridge Average Error Standard Deviation: ', np.std(ridge_rawerror))\n",
        "print('              Ridge Average Error Mean: ', np.mean(ridge_rawerror))"
      ],
      "metadata": {
        "colab": {
          "base_uri": "https://localhost:8080/",
          "height": 672
        },
        "id": "5wBS--k7WERD",
        "outputId": "fc890788-4d05-4846-9643-79b566016420"
      },
      "execution_count": null,
      "outputs": [
        {
          "output_type": "stream",
          "name": "stdout",
          "text": [
            "Lasso Average Error Standard Deviation:  365.15365420014484\n",
            "              Lasso Average Error Mean:  171.29627442191565\n",
            "\n",
            "Ridge Average Error Standard Deviation:  187.38974728449602\n",
            "              Ridge Average Error Mean:  -24.295095779481272\n"
          ]
        },
        {
          "output_type": "display_data",
          "data": {
            "text/plain": [
              "<Figure size 864x576 with 2 Axes>"
            ],
            "image/png": "[encoded data removed]"
          },
          "metadata": {
            "needs_background": "light"
          }
        }
      ]
    },
    {
      "cell_type": "code",
      "source": [
        "binwidth = 300\n",
        "f, (ax1, ax2) = plt.subplots(1, 2, figsize=(12,8), sharey = True, sharex = True) \n",
        "ax1.hist(lasso_error, bins=np.arange(min(lasso_error), max(lasso_error) + binwidth, binwidth))\n",
        "ax1.set_title('Lasso Error Histogram')\n",
        "ax2.hist(ridge_error, bins=np.arange(min(lasso_error), max(lasso_error) + binwidth, binwidth))\n",
        "ax2.set_title('Ridge Error Histogram')\n",
        "plt.tight_layout()"
      ],
      "metadata": {
        "id": "RqBtv3RDUa0d",
        "colab": {
          "base_uri": "https://localhost:8080/",
          "height": 585
        },
        "outputId": "2d38a970-84e1-4abb-9e92-4e3bab0bb1f7"
      },
      "execution_count": null,
      "outputs": [
        {
          "output_type": "display_data",
          "data": {
            "text/plain": [
              "<Figure size 864x576 with 2 Axes>"
            ],
            "image/png": "[encoded data removed]"
          },
          "metadata": {
            "needs_background": "light"
          }
        }
      ]
    },
    {
      "cell_type": "code",
      "source": [
        "binwidth = 200\n",
        "f, ((ax1, ax2),(ax3,ax4)) = plt.subplots(2, 2, figsize=(12,8), sharey = True, sharex=True) \n",
        "ax1.hist(lasso_ave_pos_error, bins=np.arange(min(lasso_ave_pos_error), max(lasso_ave_pos_error) + binwidth, binwidth))\n",
        "ax1.set_title('Lasso Average Positive Error Histogram')\n",
        "ax2.hist(lasso_ave_neg_error, bins=np.arange(min(lasso_ave_neg_error), max(lasso_ave_neg_error) + binwidth, binwidth))\n",
        "ax2.set_title('Lasso Average Negative Error Histogram')\n",
        "ax3.hist(ridge_ave_pos_error, bins=np.arange(min(ridge_ave_pos_error), max(ridge_ave_pos_error) + binwidth, binwidth))\n",
        "ax3.set_title('Ridge Average Positive Error Histogram')\n",
        "ax4.hist(ridge_ave_neg_error, bins=np.arange(min(ridge_ave_neg_error), max(ridge_ave_neg_error) + binwidth, binwidth))\n",
        "ax4.set_title('Ridge Average Negative Error Histogram')\n",
        "plt.tight_layout()"
      ],
      "metadata": {
        "colab": {
          "base_uri": "https://localhost:8080/",
          "height": 585
        },
        "id": "HkSf5kAXaEbI",
        "outputId": "8dd68f2f-24c3-481d-f338-6a2d6c77f1fe"
      },
      "execution_count": null,
      "outputs": [
        {
          "output_type": "display_data",
          "data": {
            "text/plain": [
              "<Figure size 864x576 with 4 Axes>"
            ],
            "image/png": "[encoded data removed]"
          },
          "metadata": {
            "needs_background": "light"
          }
        }
      ]
    },
    {
      "cell_type": "code",
      "source": [
        "my_y = data.iloc[:,0].tolist()\n",
        "quarterly_change = []\n",
        "\n",
        "for i in range(len(my_y)-1):\n",
        "  quarterly_change.append(my_y[i+1] - my_y[i])\n",
        "\n",
        "greater_than_200 = 0\n",
        "\n",
        "for i in quarterly_change:\n",
        "  if np.abs(i) >= 400:\n",
        "    greater_than_200 += 1\n",
        "\n",
        "print('Roughly', greater_than_200/len(quarterly_change) * 100, 'percent of the quarters had a change of over 200 points')\n",
        "\n",
        "plt.figure(0)\n",
        "plt.hist(quarterly_change, bins = 30)\n",
        "plt.title(\"Quarterly Changes in NASDAQ Value\")\n",
        "plt.xlabel(\"Change in Value\")\n",
        "plt.axvline(x = 200, color = 'r', label = 'axvline - full height')\n",
        "plt.axvline(x = -200, color = 'r', label = 'axvline - full height')\n",
        "plt.axvline(x = 400, color = 'g', label = 'axvline - full height')\n",
        "plt.axvline(x = -400, color = 'g', label = 'axvline - full height')\n",
        "plt.show()\n"
      ],
      "metadata": {
        "colab": {
          "base_uri": "https://localhost:8080/",
          "height": 312
        },
        "id": "9Leo4RLX2pMR",
        "outputId": "afbcb9e3-903a-4499-8fbc-5ebf56633a3f"
      },
      "execution_count": null,
      "outputs": [
        {
          "output_type": "stream",
          "name": "stdout",
          "text": [
            "Roughly 35.13513513513514 percent of the quarters had a change of over 200 points\n"
          ]
        },
        {
          "output_type": "display_data",
          "data": {
            "text/plain": [
              "<Figure size 432x288 with 1 Axes>"
            ],
            "image/png": "[encoded data removed]"
          },
          "metadata": {
            "needs_background": "light"
          }
        }
      ]
    },
    {
      "cell_type": "code",
      "source": [
        "#The QQ plot shows that the errors in the ridge regression are very nearly normally distributed\n",
        "qqplot(np.array(ridge_rawerror), line='s')\n",
        "plt.title('QQ Plot of Average Ridge Errors')\n",
        "plt.show()"
      ],
      "metadata": {
        "colab": {
          "base_uri": "https://localhost:8080/",
          "height": 295
        },
        "id": "atnXZVVN9xdJ",
        "outputId": "83a70809-5a26-4262-eb37-6b1fb5d79154"
      },
      "execution_count": null,
      "outputs": [
        {
          "output_type": "display_data",
          "data": {
            "text/plain": [
              "<Figure size 432x288 with 1 Axes>"
            ],
            "image/png": "[encoded data removed]"
          },
          "metadata": {
            "needs_background": "light"
          }
        }
      ]
    }
  ]
}